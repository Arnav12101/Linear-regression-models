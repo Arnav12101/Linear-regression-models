{
 "cells": [
  {
   "cell_type": "markdown",
   "id": "19d110e8",
   "metadata": {},
   "source": [
    "# Linear Regression practice"
   ]
  },
  {
   "cell_type": "code",
   "execution_count": 1,
   "id": "11919093",
   "metadata": {},
   "outputs": [],
   "source": [
    "import numpy as np\n",
    "from sklearn.linear_model import LinearRegression"
   ]
  },
  {
   "cell_type": "code",
   "execution_count": 4,
   "id": "58fcab62",
   "metadata": {},
   "outputs": [],
   "source": [
    "x = np.array([5,15,25,35,45,55]).reshape(-1,1)\n",
    "y = np.array([5,20,14,32,22,38])\n",
    "\n",
    "#We have 2 arrays, input x and output y, You should call .reshape() on x(input)\n",
    "#because this array is required to be a 2-dimensional, or to be more precise\n",
    "#to have one column and as many rows as possible. That's exactly why the argument\n",
    "#(-1,1) of .reshape() specifies "
   ]
  },
  {
   "cell_type": "code",
   "execution_count": 5,
   "id": "222d8e54",
   "metadata": {},
   "outputs": [
    {
     "name": "stdout",
     "output_type": "stream",
     "text": [
      "[[ 5]\n",
      " [15]\n",
      " [25]\n",
      " [35]\n",
      " [45]\n",
      " [55]]\n",
      "[ 5 20 14 32 22 38]\n"
     ]
    }
   ],
   "source": [
    "print(x)\n",
    "print(y)"
   ]
  },
  {
   "cell_type": "code",
   "execution_count": 7,
   "id": "bcf1379e",
   "metadata": {},
   "outputs": [
    {
     "data": {
      "text/plain": [
       "numpy.ndarray"
      ]
     },
     "execution_count": 7,
     "metadata": {},
     "output_type": "execute_result"
    }
   ],
   "source": [
    "type(x)"
   ]
  },
  {
   "cell_type": "code",
   "execution_count": 8,
   "id": "e1ad8339",
   "metadata": {},
   "outputs": [
    {
     "data": {
      "text/plain": [
       "numpy.ndarray"
      ]
     },
     "execution_count": 8,
     "metadata": {},
     "output_type": "execute_result"
    }
   ],
   "source": [
    "type(y)"
   ]
  },
  {
   "cell_type": "code",
   "execution_count": 12,
   "id": "a663331b",
   "metadata": {},
   "outputs": [],
   "source": [
    "#Creating a model and fit it\n",
    "# model = LinearRegression()"
   ]
  },
  {
   "cell_type": "code",
   "execution_count": 13,
   "id": "6a679df3",
   "metadata": {},
   "outputs": [],
   "source": [
    "# model.fit(x,y)"
   ]
  },
  {
   "cell_type": "code",
   "execution_count": 15,
   "id": "3bb0c0cc",
   "metadata": {},
   "outputs": [],
   "source": [
    "model = LinearRegression().fit(x,y)"
   ]
  },
  {
   "cell_type": "markdown",
   "id": "1fa7e5fa",
   "metadata": {},
   "source": [
    "# .score returns the R^2 value"
   ]
  },
  {
   "cell_type": "code",
   "execution_count": 17,
   "id": "5fd357b0",
   "metadata": {},
   "outputs": [
    {
     "data": {
      "text/plain": [
       "0.7158756137479542"
      ]
     },
     "execution_count": 17,
     "metadata": {},
     "output_type": "execute_result"
    }
   ],
   "source": [
    "\n",
    "model.score(x,y)"
   ]
  },
  {
   "cell_type": "markdown",
   "id": "d769a2d1",
   "metadata": {},
   "source": [
    "# .intercept_ returns the value of beta0\n",
    "# .coef_ returns the value of beta1"
   ]
  },
  {
   "cell_type": "code",
   "execution_count": 20,
   "id": "abb9dc41",
   "metadata": {},
   "outputs": [
    {
     "name": "stdout",
     "output_type": "stream",
     "text": [
      "Beta0 5.633333333333329\n",
      "Beta1 [0.54]\n"
     ]
    }
   ],
   "source": [
    "print('Beta0', model.intercept_)\n",
    "print('Beta1', model.coef_)"
   ]
  },
  {
   "cell_type": "code",
   "execution_count": 21,
   "id": "00cb15b3",
   "metadata": {},
   "outputs": [
    {
     "name": "stdout",
     "output_type": "stream",
     "text": [
      "Predicted response:  [ 8.33333333 13.73333333 19.13333333 24.53333333 29.93333333 35.33333333]\n"
     ]
    }
   ],
   "source": [
    "#Predict responses\n",
    "y_pred = model.predict(x)\n",
    "print('Predicted response: ', y_pred)"
   ]
  }
 ],
 "metadata": {
  "kernelspec": {
   "display_name": "Python 3 (ipykernel)",
   "language": "python",
   "name": "python3"
  },
  "language_info": {
   "codemirror_mode": {
    "name": "ipython",
    "version": 3
   },
   "file_extension": ".py",
   "mimetype": "text/x-python",
   "name": "python",
   "nbconvert_exporter": "python",
   "pygments_lexer": "ipython3",
   "version": "3.10.0"
  }
 },
 "nbformat": 4,
 "nbformat_minor": 5
}
